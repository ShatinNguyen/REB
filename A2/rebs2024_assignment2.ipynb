{
 "cells": [
  {
   "cell_type": "code",
   "execution_count": 497,
   "metadata": {},
   "outputs": [
    {
     "name": "stdout",
     "output_type": "stream",
     "text": [
      "The autoreload extension is already loaded. To reload it, use:\n",
      "  %reload_ext autoreload\n",
      "/\n",
      "/\n"
     ]
    }
   ],
   "source": [
    "%load_ext autoreload\n",
    "%autoreload 2\n",
    "import os\n",
    "print(os.getcwd())\n",
    "to_run = True\n",
    "if to_run:\n",
    "    os.chdir('..')\n",
    "    to_run = False\n",
    "print(os.getcwd())"
   ]
  },
  {
   "cell_type": "markdown",
   "metadata": {},
   "source": [
    "# Group Details\n",
    "\n",
    "**Group ID:** \n",
    "20\n",
    "\n",
    "**Group name:** \n",
    "Mandatory Assignments 20\n",
    "\n",
    "**Group members that contributed to the assignment (full name):**\n",
    "Shatin Nguyen, hlv332\n",
    "Theis Baasch, thb763\n"
   ]
  },
  {
   "cell_type": "markdown",
   "metadata": {},
   "source": [
    "# Option 2: Nesting visualization"
   ]
  },
  {
   "cell_type": "markdown",
   "metadata": {},
   "source": [
    "Extend DCR4Py with support for the visualization of nested DCR graphs. To get started, have a look at the visualization of classic DCR Graphs: https://github.com/paul-cvp/pm4py-dcr/blob/feature/dcr_in_pm4py_revised/pm4py/visualization/dcr/variants/classic.py\n"
   ]
  },
  {
   "cell_type": "code",
   "execution_count": null,
   "metadata": {},
   "outputs": [
    {
     "name": "stdout",
     "output_type": "stream",
     "text": [
      "group: N1  events:  {'B', 'A'}\n",
      "group: N2  events:  {'D', 'C'}\n",
      "group: N3  events:  {'E', 'F'}\n"
     ]
    },
    {
     "data": {
      "image/png": "[encoded data removed]",
      "text/plain": [
       "<IPython.core.display.Image object>"
      ]
     },
     "metadata": {},
     "output_type": "display_data"
    }
   ],
   "source": [
    "import pandas as pd\n",
    "import pm4py\n",
    "\n",
    "from pm4py.objects.dcr.hierarchical.obj import HierarchicalDcrGraph\n",
    "graph = HierarchicalDcrGraph()\n",
    "\n",
    "events = [\n",
    "    \"A\", \"B\", \"C\", \"D\", \"E\", \"F\"\n",
    "]\n",
    "\n",
    "groups = [    \n",
    "    \"N1\", \"N2\", \"N3\"\n",
    "]\n",
    "\n",
    "for event in events:\n",
    "    graph.events.add(event)\n",
    "    graph.labels.add(event)\n",
    "    graph.label_map[event] = event\n",
    "    graph.marking.included.add(event)\n",
    "\n",
    "\n",
    "for event in groups:\n",
    "    graph.events.add(event)\n",
    "    graph.labels.add(event)\n",
    "    graph.label_map[event] = event\n",
    "    #graph.nestedgroups_map[event] = event\n",
    "\n",
    "graph.nestedgroups[\"N1\"] =  {\"A\", \"B\", \"N3\"} \n",
    "graph.nestedgroups[\"N2\"] =  {\"C\", \"D\"} \n",
    "graph.nestedgroups[\"N3\"] =  {\"E\", \"F\"} \n",
    "\n",
    "for group, events in graph.nestedgroups.items():\n",
    "    for e in events:\n",
    "        graph.nestedgroups_map[e] = group\n",
    "\n",
    "graph.conditions[\"A\"] = {\"F\"}\n",
    "\n",
    "# graph.responses[\"N2\"] = {\"N3\"}\n",
    "\n",
    "# graph.includes[\"N3\"] = {\"B\"}\n",
    "\n",
    "# graph.excludes[\"C\"] = {\"N2\"}\n",
    "\n",
    "\n",
    "pm4py.view_dcr(graph)\n"
   ]
  }
 ],
 "metadata": {
  "kernelspec": {
   "display_name": "base",
   "language": "python",
   "name": "python3"
  },
  "language_info": {
   "codemirror_mode": {
    "name": "ipython",
    "version": 3
   },
   "file_extension": ".py",
   "mimetype": "text/x-python",
   "name": "python",
   "nbconvert_exporter": "python",
   "pygments_lexer": "ipython3",
   "version": "3.12.7"
  }
 },
 "nbformat": 4,
 "nbformat_minor": 2
}
