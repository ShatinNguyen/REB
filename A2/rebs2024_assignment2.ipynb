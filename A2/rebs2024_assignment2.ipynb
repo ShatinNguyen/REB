{
 "cells": [
  {
   "cell_type": "code",
   "execution_count": null,
   "metadata": {},
   "outputs": [],
   "source": [
    "%load_ext autoreload\n",
    "%autoreload 2\n",
    "import os\n",
    "print(os.getcwd())\n",
    "to_run = True\n",
    "if to_run:\n",
    "    os.chdir('..')\n",
    "    to_run = False\n",
    "print(os.getcwd())"
   ]
  },
  {
   "cell_type": "markdown",
   "metadata": {},
   "source": [
    "# Group Details\n",
    "\n",
    "**Group ID:** \n",
    "20\n",
    "\n",
    "**Group name:** \n",
    "Mandatory Assignments 20\n",
    "\n",
    "**Group members that contributed to the assignment (full name):**\n",
    "Shatin Nguyen, hlv332\n",
    "Theis Baasch, thb763\n"
   ]
  },
  {
   "cell_type": "markdown",
   "metadata": {},
   "source": [
    "# Option 2: Nesting visualization"
   ]
  },
  {
   "cell_type": "markdown",
   "metadata": {},
   "source": [
    "Extend DCR4Py with support for the visualization of nested DCR graphs. To get started, have a look at the visualization of classic DCR Graphs: https://github.com/paul-cvp/pm4py-dcr/blob/feature/dcr_in_pm4py_revised/pm4py/visualization/dcr/variants/classic.py\n"
   ]
  },
  {
   "cell_type": "code",
   "execution_count": null,
   "metadata": {},
   "outputs": [
    {
     "ename": "AttributeError",
     "evalue": "'Digraph' object has no attribute 'partition'",
     "output_type": "error",
     "traceback": [
      "\u001b[0;31m---------------------------------------------------------------------------\u001b[0m",
      "\u001b[0;31mAttributeError\u001b[0m                            Traceback (most recent call last)",
      "Cell \u001b[0;32mIn[215], line 49\u001b[0m\n\u001b[1;32m     45\u001b[0m graph\u001b[38;5;241m.\u001b[39mincludes[\u001b[38;5;124m\"\u001b[39m\u001b[38;5;124mN3\u001b[39m\u001b[38;5;124m\"\u001b[39m] \u001b[38;5;241m=\u001b[39m {\u001b[38;5;124m\"\u001b[39m\u001b[38;5;124mB\u001b[39m\u001b[38;5;124m\"\u001b[39m}\n\u001b[1;32m     46\u001b[0m graph\u001b[38;5;241m.\u001b[39mexcludes[\u001b[38;5;124m\"\u001b[39m\u001b[38;5;124mC\u001b[39m\u001b[38;5;124m\"\u001b[39m] \u001b[38;5;241m=\u001b[39m {\u001b[38;5;124m\"\u001b[39m\u001b[38;5;124mN2\u001b[39m\u001b[38;5;124m\"\u001b[39m}\n\u001b[0;32m---> 49\u001b[0m pm4py\u001b[38;5;241m.\u001b[39mview_dcr(graph)\n",
      "File \u001b[0;32m~/Library/Mobile Documents/com~apple~CloudDocs/Datalogi KU/3. Reactive and Event Based Systems (REB)/REB/A2/pm4py/vis.py:1403\u001b[0m, in \u001b[0;36mview_dcr\u001b[0;34m(dcr, format, bgcolor, rankdir)\u001b[0m\n\u001b[1;32m   1401\u001b[0m \u001b[38;5;28mformat\u001b[39m \u001b[38;5;241m=\u001b[39m \u001b[38;5;28mstr\u001b[39m(\u001b[38;5;28mformat\u001b[39m)\u001b[38;5;241m.\u001b[39mlower()\n\u001b[1;32m   1402\u001b[0m \u001b[38;5;28;01mfrom\u001b[39;00m \u001b[38;5;21;01mpm4py\u001b[39;00m\u001b[38;5;21;01m.\u001b[39;00m\u001b[38;5;21;01mvisualization\u001b[39;00m\u001b[38;5;21;01m.\u001b[39;00m\u001b[38;5;21;01mdcr\u001b[39;00m \u001b[38;5;28;01mimport\u001b[39;00m visualizer \u001b[38;5;28;01mas\u001b[39;00m dcr_visualizer\n\u001b[0;32m-> 1403\u001b[0m gviz \u001b[38;5;241m=\u001b[39m dcr_visualizer\u001b[38;5;241m.\u001b[39mapply(dcr, parameters\u001b[38;5;241m=\u001b[39m{\u001b[38;5;124m\"\u001b[39m\u001b[38;5;124mformat\u001b[39m\u001b[38;5;124m\"\u001b[39m: \u001b[38;5;28mformat\u001b[39m, \u001b[38;5;124m\"\u001b[39m\u001b[38;5;124mbgcolor\u001b[39m\u001b[38;5;124m\"\u001b[39m: bgcolor, \u001b[38;5;124m\"\u001b[39m\u001b[38;5;124mset_rankdir\u001b[39m\u001b[38;5;124m\"\u001b[39m: rankdir})\n\u001b[1;32m   1404\u001b[0m dcr_visualizer\u001b[38;5;241m.\u001b[39mview(gviz)\n",
      "File \u001b[0;32m~/Library/Mobile Documents/com~apple~CloudDocs/Datalogi KU/3. Reactive and Event Based Systems (REB)/REB/A2/pm4py/visualization/dcr/visualizer.py:20\u001b[0m, in \u001b[0;36mapply\u001b[0;34m(dcr, variant, parameters)\u001b[0m\n\u001b[1;32m     18\u001b[0m \u001b[38;5;28;01mdef\u001b[39;00m \u001b[38;5;21mapply\u001b[39m(dcr, variant\u001b[38;5;241m=\u001b[39mDEFAULT_VARIANT, parameters\u001b[38;5;241m=\u001b[39m\u001b[38;5;28;01mNone\u001b[39;00m):\n\u001b[1;32m     19\u001b[0m     dcr \u001b[38;5;241m=\u001b[39m deepcopy(dcr)\n\u001b[0;32m---> 20\u001b[0m     \u001b[38;5;28;01mreturn\u001b[39;00m exec_utils\u001b[38;5;241m.\u001b[39mget_variant(variant)\u001b[38;5;241m.\u001b[39mapply(dcr, parameters)\n",
      "File \u001b[0;32m~/Library/Mobile Documents/com~apple~CloudDocs/Datalogi KU/3. Reactive and Event Based Systems (REB)/REB/A2/pm4py/visualization/dcr/variants/classic.py:149\u001b[0m, in \u001b[0;36mapply\u001b[0;34m(dcr, parameters)\u001b[0m\n\u001b[1;32m    147\u001b[0m \u001b[38;5;66;03m# ADD NESTED GROUPS\u001b[39;00m\n\u001b[1;32m    148\u001b[0m \u001b[38;5;28;01mfor\u001b[39;00m group, events \u001b[38;5;129;01min\u001b[39;00m dcr\u001b[38;5;241m.\u001b[39mnestedgroups\u001b[38;5;241m.\u001b[39mitems():\n\u001b[0;32m--> 149\u001b[0m     create_nested_groups(viz, group, events, dcr, parameters)                \n\u001b[1;32m    152\u001b[0m \u001b[38;5;28;01mfor\u001b[39;00m event \u001b[38;5;129;01min\u001b[39;00m dcr\u001b[38;5;241m.\u001b[39mconditions:\n\u001b[1;32m    153\u001b[0m     \u001b[38;5;28;01mfor\u001b[39;00m event_prime \u001b[38;5;129;01min\u001b[39;00m dcr\u001b[38;5;241m.\u001b[39mconditions[event]:\n",
      "File \u001b[0;32m~/Library/Mobile Documents/com~apple~CloudDocs/Datalogi KU/3. Reactive and Event Based Systems (REB)/REB/A2/pm4py/visualization/dcr/variants/classic.py:91\u001b[0m, in \u001b[0;36mcreate_nested_groups\u001b[0;34m(viz, group, events, dcr, parameters)\u001b[0m\n\u001b[1;32m     87\u001b[0m sub\u001b[38;5;241m.\u001b[39mattr(label\u001b[38;5;241m=\u001b[39mlabel, style\u001b[38;5;241m=\u001b[39m\u001b[38;5;124m'\u001b[39m\u001b[38;5;124mdashed\u001b[39m\u001b[38;5;124m'\u001b[39m,font_size\u001b[38;5;241m=\u001b[39mfont_size, shape\u001b[38;5;241m=\u001b[39m\u001b[38;5;124m'\u001b[39m\u001b[38;5;124mMrecord\u001b[39m\u001b[38;5;124m'\u001b[39m)\n\u001b[1;32m     89\u001b[0m sub\u001b[38;5;241m.\u001b[39mnode(group)\n\u001b[0;32m---> 91\u001b[0m viz\u001b[38;5;241m.\u001b[39medge(sub, group)\n\u001b[1;32m     92\u001b[0m \u001b[38;5;28;01mfor\u001b[39;00m event \u001b[38;5;129;01min\u001b[39;00m events:\n\u001b[1;32m     93\u001b[0m     \u001b[38;5;28;01mif\u001b[39;00m event \u001b[38;5;129;01min\u001b[39;00m dcr\u001b[38;5;241m.\u001b[39mnestedgroups\u001b[38;5;241m.\u001b[39mkeys():\n",
      "File \u001b[0;32m/opt/anaconda3/lib/python3.12/site-packages/graphviz/_tools.py:171\u001b[0m, in \u001b[0;36mdeprecate_positional_args.<locals>.decorator.<locals>.wrapper\u001b[0;34m(*args, **kwargs)\u001b[0m\n\u001b[1;32m    162\u001b[0m     wanted \u001b[38;5;241m=\u001b[39m \u001b[38;5;124m'\u001b[39m\u001b[38;5;124m, \u001b[39m\u001b[38;5;124m'\u001b[39m\u001b[38;5;241m.\u001b[39mjoin(\u001b[38;5;124mf\u001b[39m\u001b[38;5;124m'\u001b[39m\u001b[38;5;132;01m{\u001b[39;00mname\u001b[38;5;132;01m}\u001b[39;00m\u001b[38;5;124m=\u001b[39m\u001b[38;5;132;01m{\u001b[39;00mvalue\u001b[38;5;132;01m!r}\u001b[39;00m\u001b[38;5;124m'\u001b[39m\n\u001b[1;32m    163\u001b[0m                        \u001b[38;5;28;01mfor\u001b[39;00m name, value \u001b[38;5;129;01min\u001b[39;00m deprecated\u001b[38;5;241m.\u001b[39mitems())\n\u001b[1;32m    164\u001b[0m     warnings\u001b[38;5;241m.\u001b[39mwarn(\u001b[38;5;124mf\u001b[39m\u001b[38;5;124m'\u001b[39m\u001b[38;5;124mThe signature of \u001b[39m\u001b[38;5;132;01m{\u001b[39;00mfunc\u001b[38;5;241m.\u001b[39m\u001b[38;5;18m__name__\u001b[39m\u001b[38;5;132;01m}\u001b[39;00m\u001b[38;5;124m will be reduced\u001b[39m\u001b[38;5;124m'\u001b[39m\n\u001b[1;32m    165\u001b[0m                   \u001b[38;5;124mf\u001b[39m\u001b[38;5;124m'\u001b[39m\u001b[38;5;124m to \u001b[39m\u001b[38;5;132;01m{\u001b[39;00msupported_number\u001b[38;5;132;01m}\u001b[39;00m\u001b[38;5;124m positional args\u001b[39m\u001b[38;5;124m'\u001b[39m\n\u001b[1;32m    166\u001b[0m                   \u001b[38;5;124mf\u001b[39m\u001b[38;5;124m'\u001b[39m\u001b[38;5;124m \u001b[39m\u001b[38;5;132;01m{\u001b[39;00m\u001b[38;5;28mlist\u001b[39m(supported)\u001b[38;5;132;01m}\u001b[39;00m\u001b[38;5;124m: pass \u001b[39m\u001b[38;5;132;01m{\u001b[39;00mwanted\u001b[38;5;132;01m}\u001b[39;00m\u001b[38;5;124m'\u001b[39m\n\u001b[1;32m    167\u001b[0m                   \u001b[38;5;124m'\u001b[39m\u001b[38;5;124m as keyword arg(s)\u001b[39m\u001b[38;5;124m'\u001b[39m,\n\u001b[1;32m    168\u001b[0m                   stacklevel\u001b[38;5;241m=\u001b[39mstacklevel,\n\u001b[1;32m    169\u001b[0m                   category\u001b[38;5;241m=\u001b[39mcategory)\n\u001b[0;32m--> 171\u001b[0m \u001b[38;5;28;01mreturn\u001b[39;00m func(\u001b[38;5;241m*\u001b[39margs, \u001b[38;5;241m*\u001b[39m\u001b[38;5;241m*\u001b[39mkwargs)\n",
      "File \u001b[0;32m/opt/anaconda3/lib/python3.12/site-packages/graphviz/dot.py:220\u001b[0m, in \u001b[0;36mDot.edge\u001b[0;34m(self, tail_name, head_name, label, _attributes, **attrs)\u001b[0m\n\u001b[1;32m    200\u001b[0m \u001b[38;5;129m@_tools\u001b[39m\u001b[38;5;241m.\u001b[39mdeprecate_positional_args(supported_number\u001b[38;5;241m=\u001b[39m\u001b[38;5;241m4\u001b[39m)\n\u001b[1;32m    201\u001b[0m \u001b[38;5;28;01mdef\u001b[39;00m \u001b[38;5;21medge\u001b[39m(\u001b[38;5;28mself\u001b[39m, tail_name: \u001b[38;5;28mstr\u001b[39m, head_name: \u001b[38;5;28mstr\u001b[39m,\n\u001b[1;32m    202\u001b[0m          label: typing\u001b[38;5;241m.\u001b[39mOptional[\u001b[38;5;28mstr\u001b[39m] \u001b[38;5;241m=\u001b[39m \u001b[38;5;28;01mNone\u001b[39;00m,\n\u001b[1;32m    203\u001b[0m          _attributes\u001b[38;5;241m=\u001b[39m\u001b[38;5;28;01mNone\u001b[39;00m, \u001b[38;5;241m*\u001b[39m\u001b[38;5;241m*\u001b[39mattrs) \u001b[38;5;241m-\u001b[39m\u001b[38;5;241m>\u001b[39m \u001b[38;5;28;01mNone\u001b[39;00m:\n\u001b[1;32m    204\u001b[0m \u001b[38;5;250m    \u001b[39m\u001b[38;5;124;03m\"\"\"Create an edge between two nodes.\u001b[39;00m\n\u001b[1;32m    205\u001b[0m \n\u001b[1;32m    206\u001b[0m \u001b[38;5;124;03m    Args:\u001b[39;00m\n\u001b[0;32m   (...)\u001b[0m\n\u001b[1;32m    218\u001b[0m \u001b[38;5;124;03m        See :ref:`details in the User Guide <node-ports-compass>`.\u001b[39;00m\n\u001b[1;32m    219\u001b[0m \u001b[38;5;124;03m    \"\"\"\u001b[39;00m\n\u001b[0;32m--> 220\u001b[0m     tail_name \u001b[38;5;241m=\u001b[39m \u001b[38;5;28mself\u001b[39m\u001b[38;5;241m.\u001b[39m_quote_edge(tail_name)\n\u001b[1;32m    221\u001b[0m     head_name \u001b[38;5;241m=\u001b[39m \u001b[38;5;28mself\u001b[39m\u001b[38;5;241m.\u001b[39m_quote_edge(head_name)\n\u001b[1;32m    222\u001b[0m     attr_list \u001b[38;5;241m=\u001b[39m \u001b[38;5;28mself\u001b[39m\u001b[38;5;241m.\u001b[39m_attr_list(label, kwargs\u001b[38;5;241m=\u001b[39mattrs, attributes\u001b[38;5;241m=\u001b[39m_attributes)\n",
      "File \u001b[0;32m/opt/anaconda3/lib/python3.12/site-packages/graphviz/quoting.py:105\u001b[0m, in \u001b[0;36mquote_edge\u001b[0;34m(identifier)\u001b[0m\n\u001b[1;32m     93\u001b[0m \u001b[38;5;28;01mdef\u001b[39;00m \u001b[38;5;21mquote_edge\u001b[39m(identifier: \u001b[38;5;28mstr\u001b[39m) \u001b[38;5;241m-\u001b[39m\u001b[38;5;241m>\u001b[39m \u001b[38;5;28mstr\u001b[39m:\n\u001b[1;32m     94\u001b[0m \u001b[38;5;250m    \u001b[39m\u001b[38;5;124;03m\"\"\"Return DOT edge statement node_id from string, quote if needed.\u001b[39;00m\n\u001b[1;32m     95\u001b[0m \n\u001b[1;32m     96\u001b[0m \u001b[38;5;124;03m    >>> quote_edge('spam')  # doctest: +NO_EXE\u001b[39;00m\n\u001b[0;32m   (...)\u001b[0m\n\u001b[1;32m    103\u001b[0m \u001b[38;5;124;03m    'spam:eggs:s'\u001b[39;00m\n\u001b[1;32m    104\u001b[0m \u001b[38;5;124;03m    \"\"\"\u001b[39;00m\n\u001b[0;32m--> 105\u001b[0m     node, _, rest \u001b[38;5;241m=\u001b[39m identifier\u001b[38;5;241m.\u001b[39mpartition(\u001b[38;5;124m'\u001b[39m\u001b[38;5;124m:\u001b[39m\u001b[38;5;124m'\u001b[39m)\n\u001b[1;32m    106\u001b[0m     parts \u001b[38;5;241m=\u001b[39m [quote(node)]\n\u001b[1;32m    107\u001b[0m     \u001b[38;5;28;01mif\u001b[39;00m rest:\n",
      "\u001b[0;31mAttributeError\u001b[0m: 'Digraph' object has no attribute 'partition'"
     ]
    }
   ],
   "source": [
    "import pandas as pd\n",
    "import pm4py\n",
    "\n",
    "from pm4py.objects.dcr.hierarchical.obj import HierarchicalDcrGraph\n",
    "graph = HierarchicalDcrGraph()\n",
    "\n",
    "events = [\n",
    "    \"A\", \"B\", \"C\", \"D\", \"E\", \"F\"\n",
    "]\n",
    "\n",
    "groups = [    \n",
    "    \"N1\", \"N2\", \"N3\"\n",
    "]\n",
    "\n",
    "for event in events:\n",
    "    graph.events.add(event)\n",
    "    graph.labels.add(event)\n",
    "    graph.label_map[event] = event\n",
    "    graph.marking.included.add(event)\n",
    "\n",
    "\n",
    "for event in groups:\n",
    "    graph.events.add(event)\n",
    "    graph.labels.add(event)\n",
    "    graph.label_map[event] = event\n",
    "    #graph.nestedgroups_map[event] = event\n",
    "\n",
    "graph.nestedgroups[\"N1\"] =  {\"B\", \"N2\"} \n",
    "graph.nestedgroups[\"N2\"] =  {\"C\", \"D\"} \n",
    "graph.nestedgroups[\"N3\"] =  {\"E\", \"F\"} \n",
    "\n",
    "for group, events in graph.nestedgroups.items():\n",
    "    for e in events:\n",
    "        graph.nestedgroups_map[e] = group\n",
    "\n",
    "\n",
    "graph.marking.pending.add(\"N1\")\n",
    "graph.marking.included.remove(\"B\")\n",
    "graph.marking.pending.add(\"D\")\n",
    "\n",
    "graph.conditions[\"N1\"] = {\"A\"}\n",
    "graph.conditions[\"N3\"] = {\"N1\"}\n",
    "graph.responses[\"N2\"] = {\"N3\"}\n",
    "graph.includes[\"N3\"] = {\"B\"}\n",
    "graph.excludes[\"C\"] = {\"N2\"}\n",
    "\n",
    "\n",
    "pm4py.view_dcr(graph)\n"
   ]
  }
 ],
 "metadata": {
  "kernelspec": {
   "display_name": "base",
   "language": "python",
   "name": "python3"
  },
  "language_info": {
   "codemirror_mode": {
    "name": "ipython",
    "version": 3
   },
   "file_extension": ".py",
   "mimetype": "text/x-python",
   "name": "python",
   "nbconvert_exporter": "python",
   "pygments_lexer": "ipython3",
   "version": "3.12.7"
  }
 },
 "nbformat": 4,
 "nbformat_minor": 2
}
